{
 "cells": [
  {
   "cell_type": "markdown",
   "id": "319c6593-fa0e-4b54-b683-c43b0acfef5d",
   "metadata": {},
   "source": [
    "# 3.2 예제 : 손글씨 숫자 이미지 분류 문제(p.74)\n",
    "240116"
   ]
  },
  {
   "cell_type": "markdown",
   "id": "47d2c451-344a-47c9-a768-7763ba698adf",
   "metadata": {},
   "source": [
    "## 3.2.2 CNN으로 손글씨 숫자 이미지 분류하기"
   ]
  },
  {
   "cell_type": "markdown",
   "id": "2cb5f2cf-8162-4bad-86a1-e035a8f68b35",
   "metadata": {},
   "source": [
    "### 모듈 불러오기"
   ]
  },
  {
   "cell_type": "code",
   "execution_count": 2,
   "id": "e1e3dbb9-1d1c-43e6-8b0b-ebb6d5a454e5",
   "metadata": {},
   "outputs": [],
   "source": [
    "import torch\n",
    "import torch.nn as nn\n",
    "import torch.nn.functional as F\n",
    "import torch.optim as optim\n",
    "from torchvision import datasets, transforms\n",
    "\n",
    "import matplotlib.pyplot as plt\n",
    "%matplotlib inline"
   ]
  },
  {
   "cell_type": "markdown",
   "id": "53b5ab67-2746-4601-8d98-d0e3fb1b3f93",
   "metadata": {},
   "source": [
    "### 분석 환경 설정"
   ]
  },
  {
   "cell_type": "code",
   "execution_count": 3,
   "id": "f6c6082b-5cee-4306-96c6-b2f920830437",
   "metadata": {},
   "outputs": [
    {
     "name": "stdout",
     "output_type": "stream",
     "text": [
      "Current cuda device is cuda\n"
     ]
    }
   ],
   "source": [
    "is_cuda = torch.cuda.is_available()\n",
    "device = torch.device('cuda' if is_cuda else 'cpu')\n",
    "\n",
    "print('Current cuda device is', device) # GPU 사용시 cuda, CPU 사용시 cpu"
   ]
  },
  {
   "cell_type": "markdown",
   "id": "7cedc915-e0a3-4ae9-9556-2b3582414f3a",
   "metadata": {},
   "source": [
    "### Hyper Parameter 지정"
   ]
  },
  {
   "cell_type": "code",
   "execution_count": 4,
   "id": "aee93f3f-de95-48d7-8034-6430a943ac29",
   "metadata": {},
   "outputs": [],
   "source": [
    "batch_size = 50\n",
    "epoch_num = 15\n",
    "learning_rate = 0.0001"
   ]
  },
  {
   "cell_type": "markdown",
   "id": "62f1c81f-5799-43c8-9f55-9cd533cb1e9f",
   "metadata": {},
   "source": [
    "### MNIST 데이터 불러오기"
   ]
  },
  {
   "cell_type": "code",
   "execution_count": 5,
   "id": "5f141f59-0ae7-4bed-96c4-e7c51eedf166",
   "metadata": {},
   "outputs": [
    {
     "name": "stdout",
     "output_type": "stream",
     "text": [
      "Downloading http://yann.lecun.com/exdb/mnist/train-images-idx3-ubyte.gz\n",
      "Downloading http://yann.lecun.com/exdb/mnist/train-images-idx3-ubyte.gz to ./data/MNIST/raw/train-images-idx3-ubyte.gz\n"
     ]
    },
    {
     "data": {
      "application/vnd.jupyter.widget-view+json": {
       "model_id": "1b9c7d3860a647c6958f785ab7598201",
       "version_major": 2,
       "version_minor": 0
      },
      "text/plain": [
       "  0%|          | 0/9912422 [00:00<?, ?it/s]"
      ]
     },
     "metadata": {},
     "output_type": "display_data"
    },
    {
     "name": "stdout",
     "output_type": "stream",
     "text": [
      "Extracting ./data/MNIST/raw/train-images-idx3-ubyte.gz to ./data/MNIST/raw\n",
      "\n",
      "Downloading http://yann.lecun.com/exdb/mnist/train-labels-idx1-ubyte.gz\n",
      "Downloading http://yann.lecun.com/exdb/mnist/train-labels-idx1-ubyte.gz to ./data/MNIST/raw/train-labels-idx1-ubyte.gz\n"
     ]
    },
    {
     "data": {
      "application/vnd.jupyter.widget-view+json": {
       "model_id": "3f62899ac62f455a870e505a9d752bdf",
       "version_major": 2,
       "version_minor": 0
      },
      "text/plain": [
       "  0%|          | 0/28881 [00:00<?, ?it/s]"
      ]
     },
     "metadata": {},
     "output_type": "display_data"
    },
    {
     "name": "stdout",
     "output_type": "stream",
     "text": [
      "Extracting ./data/MNIST/raw/train-labels-idx1-ubyte.gz to ./data/MNIST/raw\n",
      "\n",
      "Downloading http://yann.lecun.com/exdb/mnist/t10k-images-idx3-ubyte.gz\n",
      "Downloading http://yann.lecun.com/exdb/mnist/t10k-images-idx3-ubyte.gz to ./data/MNIST/raw/t10k-images-idx3-ubyte.gz\n"
     ]
    },
    {
     "data": {
      "application/vnd.jupyter.widget-view+json": {
       "model_id": "5675962ec34f4353b18a66763423c326",
       "version_major": 2,
       "version_minor": 0
      },
      "text/plain": [
       "  0%|          | 0/1648877 [00:00<?, ?it/s]"
      ]
     },
     "metadata": {},
     "output_type": "display_data"
    },
    {
     "name": "stdout",
     "output_type": "stream",
     "text": [
      "Extracting ./data/MNIST/raw/t10k-images-idx3-ubyte.gz to ./data/MNIST/raw\n",
      "\n",
      "Downloading http://yann.lecun.com/exdb/mnist/t10k-labels-idx1-ubyte.gz\n",
      "Downloading http://yann.lecun.com/exdb/mnist/t10k-labels-idx1-ubyte.gz to ./data/MNIST/raw/t10k-labels-idx1-ubyte.gz\n"
     ]
    },
    {
     "data": {
      "application/vnd.jupyter.widget-view+json": {
       "model_id": "71b44f25e8114173abffcf7160d4c0c1",
       "version_major": 2,
       "version_minor": 0
      },
      "text/plain": [
       "  0%|          | 0/4542 [00:00<?, ?it/s]"
      ]
     },
     "metadata": {},
     "output_type": "display_data"
    },
    {
     "name": "stdout",
     "output_type": "stream",
     "text": [
      "Extracting ./data/MNIST/raw/t10k-labels-idx1-ubyte.gz to ./data/MNIST/raw\n",
      "\n",
      "number of training data : 60000\n",
      "number of test data     : 10000\n"
     ]
    }
   ],
   "source": [
    "train_data = datasets.MNIST(root= './data',\n",
    "                            train= True,\n",
    "                            download= True,\n",
    "                            transform= transforms.ToTensor())\n",
    "test_data = datasets.MNIST(root= './data',\n",
    "                           train= False,\n",
    "                           transform= transforms.ToTensor())\n",
    "\n",
    "print('number of training data :', len(train_data))\n",
    "print('number of test data     :', len(test_data))"
   ]
  },
  {
   "cell_type": "markdown",
   "id": "43dd2339-7663-4cb0-86c2-8de9440429d4",
   "metadata": {},
   "source": [
    "### MNIST 데이터 확인하기"
   ]
  },
  {
   "cell_type": "code",
   "execution_count": 6,
   "id": "398eb45b-95cc-4439-b9e1-1548257b4be1",
   "metadata": {},
   "outputs": [
    {
     "data": {
      "image/png": "[encoded data removed]",
      "text/plain": [
       "<Figure size 640x480 with 1 Axes>"
      ]
     },
     "metadata": {},
     "output_type": "display_data"
    }
   ],
   "source": [
    "img, label = train_data[0]\n",
    "\n",
    "plt.imshow(img.squeeze().numpy(),\n",
    "           cmap= 'gray')\n",
    "plt.title('label : %s' % label)\n",
    "plt.show()"
   ]
  },
  {
   "cell_type": "markdown",
   "id": "f547ed46-b4d4-4095-a5d0-f48c76279cb2",
   "metadata": {},
   "source": [
    "### 미니 배치 구성하기"
   ]
  },
  {
   "cell_type": "code",
   "execution_count": 9,
   "id": "0c81ac54-f4bf-4bb4-b2e4-6aaeb648b34d",
   "metadata": {},
   "outputs": [
    {
     "name": "stdout",
     "output_type": "stream",
     "text": [
      "name            | type                      | size\n",
      "Num of Batch    |                           | 1200\n",
      "first_batch     | <class 'list'>            | 2\n",
      "first_batch[0]  | <class 'torch.Tensor'>    | torch.Size([50, 1, 28, 28])\n",
      "first_batch[1]  | <class 'torch.Tensor'>    | torch.Size([50])\n"
     ]
    }
   ],
   "source": [
    "train_loader = torch.utils.data.DataLoader(dataset= train_data,\n",
    "                                           batch_size= batch_size,\n",
    "                                           shuffle= True)\n",
    "test_loader = torch.utils.data.DataLoader(dataset= test_data,\n",
    "                                          batch_size= batch_size,\n",
    "                                          shuffle= True)\n",
    "\n",
    "first_batch = train_loader.__iter__().__next__()\n",
    "print('{:15s} | {:<25s} | {}'.format('name',\n",
    "                                      'type',\n",
    "                                      'size'))\n",
    "print('{:15s} | {:<25s} | {}'.format('Num of Batch',\n",
    "                                      '',\n",
    "                                      len(train_loader)))\n",
    "print('{:15s} | {:<25s} | {}'.format('first_batch',\n",
    "                                      str(type(first_batch)),\n",
    "                                      len(first_batch)))\n",
    "print('{:15s} | {:<25s} | {}'.format('first_batch[0]',\n",
    "                                      str(type(first_batch[0])),\n",
    "                                      first_batch[0].shape))\n",
    "print('{:15s} | {:<25s} | {}'.format('first_batch[1]',\n",
    "                                      str(type(first_batch[1])),\n",
    "                                      first_batch[1].shape))"
   ]
  },
  {
   "cell_type": "markdown",
   "id": "308bfb3d-cd57-44ef-9e0c-43cce00a6ff8",
   "metadata": {},
   "source": [
    "### CNN 구조 설계하기"
   ]
  },
  {
   "cell_type": "code",
   "execution_count": 10,
   "id": "a3eb80ca-2d91-42ae-9597-62e68e7d37c0",
   "metadata": {},
   "outputs": [],
   "source": [
    "class CNN(nn.Module) :\n",
    "    def __init__(self) :\n",
    "        super(CNN,self).__init__()\n",
    "        self.conv1 = nn.Conv2d(1,32,3,1)\n",
    "        self.conv2 = nn.Conv2d(32,64,3,1)\n",
    "        self.dropout1 = nn.Dropout2d(0.25)\n",
    "        self.dropout2 = nn.Dropout2d(0.5)\n",
    "        self.fc1 = nn.Linear(9216, 128)\n",
    "        self.fc2 = nn.Linear(128,10)\n",
    "    \n",
    "    def forward(self,x) :\n",
    "        x = self.conv1(x)\n",
    "        x = F.relu(x)\n",
    "        \n",
    "        x = self.conv2(x)\n",
    "        x = F.relu(x)\n",
    "        \n",
    "        x = F.max_pool2d(x,2)\n",
    "        \n",
    "        x = self.dropout1(x)\n",
    "        \n",
    "        x = torch.flatten(x,1)\n",
    "        \n",
    "        x = self.fc1(x)\n",
    "        x = F.relu(x)\n",
    "        \n",
    "        x = self.dropout2(x)\n",
    "        x = self.fc2(x)\n",
    "        \n",
    "        output = F.log_softmax(x,dim= 1)\n",
    "        return output"
   ]
  },
  {
   "cell_type": "markdown",
   "id": "7bdbec8b-f5c4-40bb-b520-44d5f9d7f60a",
   "metadata": {},
   "source": [
    "### Optimizer 및 손실 함수 정의"
   ]
  },
  {
   "cell_type": "code",
   "execution_count": 11,
   "id": "ddcca7fc-f152-4bd7-90ef-041420738f30",
   "metadata": {},
   "outputs": [],
   "source": [
    "model = CNN().to(device)\n",
    "optimizer = optim.Adam(model.parameters(),\n",
    "                       lr= learning_rate)\n",
    "criterion = nn.CrossEntropyLoss()"
   ]
  },
  {
   "cell_type": "markdown",
   "id": "60234326-60d4-4b55-8268-f09e00168f5b",
   "metadata": {},
   "source": [
    "### 설계한 CNN 모형 확인하기"
   ]
  },
  {
   "cell_type": "code",
   "execution_count": 12,
   "id": "f42bf342-c5da-4ffb-9e51-a5e7a06b6c7a",
   "metadata": {},
   "outputs": [
    {
     "name": "stdout",
     "output_type": "stream",
     "text": [
      "CNN(\n",
      "  (conv1): Conv2d(1, 32, kernel_size=(3, 3), stride=(1, 1))\n",
      "  (conv2): Conv2d(32, 64, kernel_size=(3, 3), stride=(1, 1))\n",
      "  (dropout1): Dropout2d(p=0.25, inplace=False)\n",
      "  (dropout2): Dropout2d(p=0.5, inplace=False)\n",
      "  (fc1): Linear(in_features=9216, out_features=128, bias=True)\n",
      "  (fc2): Linear(in_features=128, out_features=10, bias=True)\n",
      ")\n"
     ]
    }
   ],
   "source": [
    "print(model)"
   ]
  },
  {
   "cell_type": "markdown",
   "id": "b9337752-8a03-4bad-9f31-de1dd83d7493",
   "metadata": {},
   "source": [
    "### 모델 학습"
   ]
  },
  {
   "cell_type": "code",
   "execution_count": 14,
   "id": "e5ce2312-09c5-427b-973e-58c0b420f040",
   "metadata": {},
   "outputs": [
    {
     "name": "stdout",
     "output_type": "stream",
     "text": [
      "Train Step : 0\tLoss : 2.302\n",
      "Train Step : 1000\tLoss : 0.345\n",
      "Train Step : 2000\tLoss : 0.230\n",
      "Train Step : 3000\tLoss : 0.074\n",
      "Train Step : 4000\tLoss : 0.103\n",
      "Train Step : 5000\tLoss : 0.208\n",
      "Train Step : 6000\tLoss : 0.186\n",
      "Train Step : 7000\tLoss : 0.066\n",
      "Train Step : 8000\tLoss : 0.196\n",
      "Train Step : 9000\tLoss : 0.003\n",
      "Train Step : 10000\tLoss : 0.042\n",
      "Train Step : 11000\tLoss : 0.055\n",
      "Train Step : 12000\tLoss : 0.044\n",
      "Train Step : 13000\tLoss : 0.004\n",
      "Train Step : 14000\tLoss : 0.025\n",
      "Train Step : 15000\tLoss : 0.023\n",
      "Train Step : 16000\tLoss : 0.010\n",
      "Train Step : 17000\tLoss : 0.048\n"
     ]
    }
   ],
   "source": [
    "model.train()\n",
    "i = 0\n",
    "for epoch in range(epoch_num) : # epoch_num = 15\n",
    "    for data, target in train_loader :\n",
    "        data = data.to(device)\n",
    "        target = target.to(device)\n",
    "        optimizer.zero_grad()\n",
    "        output = model(data)\n",
    "        loss = criterion(output,target)\n",
    "        loss.backward()\n",
    "        optimizer.step()\n",
    "        if i % 1000 == 0 :\n",
    "            print('Train Step : {}\\tLoss : {:.3f}'.format(i,loss.item()))\n",
    "        i += 1"
   ]
  },
  {
   "cell_type": "markdown",
   "id": "626343ca-cc2e-49a8-a339-6f9315120dbe",
   "metadata": {},
   "source": [
    "### 모델 평가"
   ]
  },
  {
   "cell_type": "code",
   "execution_count": 15,
   "id": "9d571384-a1de-40ed-9dec-798adf1d1b53",
   "metadata": {},
   "outputs": [
    {
     "name": "stdout",
     "output_type": "stream",
     "text": [
      "Test Set Accuracy : 99.05%\n"
     ]
    }
   ],
   "source": [
    "model.eval()\n",
    "correct = 0\n",
    "for data,target in test_loader :\n",
    "    data = data.to(device)\n",
    "    target = target.to(device)\n",
    "    output = model(data)\n",
    "    prediction = output.data.max(1)[1]\n",
    "    correct += prediction.eq(target.data).sum()\n",
    "print('Test Set Accuracy : {:.2f}%'.format(100*correct/len(test_loader.dataset)))"
   ]
  }
 ],
 "metadata": {
  "kernelspec": {
   "display_name": "Python 3 (ipykernel)",
   "language": "python",
   "name": "python3"
  },
  "language_info": {
   "codemirror_mode": {
    "name": "ipython",
    "version": 3
   },
   "file_extension": ".py",
   "mimetype": "text/x-python",
   "name": "python",
   "nbconvert_exporter": "python",
   "pygments_lexer": "ipython3",
   "version": "3.10.8"
  }
 },
 "nbformat": 4,
 "nbformat_minor": 5
}
